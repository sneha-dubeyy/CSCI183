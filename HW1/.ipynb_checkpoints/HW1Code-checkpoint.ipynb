{
 "cells": [
  {
   "cell_type": "code",
   "execution_count": null,
   "id": "ddb46322",
   "metadata": {},
   "outputs": [],
   "source": [
    "# Sneha Dubey & Bastiaan Van Buiten\n",
    "# Dr. Ghosh\n",
    "# CSCI 183\n",
    "# 22 January 2024\n",
    "# Homework 1 Code"
   ]
  }
 ],
 "metadata": {
  "kernelspec": {
   "display_name": "Python 3 (ipykernel)",
   "language": "python",
   "name": "python3"
  },
  "language_info": {
   "codemirror_mode": {
    "name": "ipython",
    "version": 3
   },
   "file_extension": ".py",
   "mimetype": "text/x-python",
   "name": "python",
   "nbconvert_exporter": "python",
   "pygments_lexer": "ipython3",
   "version": "3.10.9"
  }
 },
 "nbformat": 4,
 "nbformat_minor": 5
}
