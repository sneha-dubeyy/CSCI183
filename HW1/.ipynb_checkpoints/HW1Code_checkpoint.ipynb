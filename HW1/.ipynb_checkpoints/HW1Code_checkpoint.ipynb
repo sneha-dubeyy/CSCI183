{
 "cells": [
  {
   "cell_type": "markdown",
   "id": "1f29edee-f9c5-433b-86a7-3aba04394b9a",
   "metadata": {},
   "source": [
    "Sneha Dubey & Bastiaan Van Buiten\n",
    "Dr. Ghosh\n",
    "CSCI 183\n",
    "22 January 2024\n",
    "Homework 1 Code"
   ]
  },
  {
   "cell_type": "code",
   "execution_count": null,
   "id": "105786a0",
   "metadata": {},
   "outputs": [],
   "source": [
    "# PYTHON BASICS SECTION:"
   ]
  },
  {
   "cell_type": "code",
   "execution_count": null,
   "id": "f67a6784",
   "metadata": {},
   "outputs": [],
   "source": [
    "# Q1: Write a Python program to print the number and sum of prime numbers which are less than or\n",
    "#     equal to a given number. [5 points]"
   ]
  },
  {
   "cell_type": "code",
   "execution_count": 1,
   "id": "722181b4",
   "metadata": {},
   "outputs": [
    {
     "name": "stdout",
     "output_type": "stream",
     "text": [
      "12\n"
     ]
    }
   ],
   "source": [
    "# Q2: Write a Python program to find the largest product of the pair of adjacent elements from a given\n",
    "#     list of integers. [5 points]\n",
    "def Q2(inp=[]):\n",
    "    if (len(inp) == 0 or len(inp) == 1):\n",
    "        return None;\n",
    "    i = 1\n",
    "    j = 2\n",
    "    largest = inp[0] * inp[1]\n",
    "    while (i < len(inp) - 1):\n",
    "        if (largest < inp[i] * inp[j]):\n",
    "            largest = inp[i] * inp[j]\n",
    "        i+=1\n",
    "        j+=1\n",
    "    return largest\n",
    "\n",
    "#Example\n",
    "print(Q2([1,2,3,4]))"
   ]
  },
  {
   "cell_type": "code",
   "execution_count": null,
   "id": "8c9408f9",
   "metadata": {},
   "outputs": [],
   "source": [
    "# Q3: Given a password, we have to categorize it as valid or invalid. There are some checks that need\n",
    "#     to be met to be a valid password. For a invalid password, we need to return the reason for it to be invalid.\n",
    "#     [10 points]\n",
    "\n",
    "    # Conditions for a valid password are:\n",
    "\n",
    "    # Should have at least one number.\n",
    "    # Should have at least one uppercase and one lowercase character.\n",
    "    # Should have at least one special symbol.\n",
    "    # Should be between 6 to 20 characters long."
   ]
  },
  {
   "cell_type": "code",
   "execution_count": 3,
   "id": "aea77951",
   "metadata": {},
   "outputs": [
    {
     "name": "stdout",
     "output_type": "stream",
     "text": [
      "Your password is weak for the following reason(s):\n",
      "-There cannot be a newline or a space.\n",
      "-There should not be three or more repeating characters in a row.\n",
      "-The same string pattern(minimum of two character length) should not be repeated. (\"ls\" was repeated.)\n"
     ]
    }
   ],
   "source": [
    "# Q4: Given a password, we have to categorize it as a strong or weak one. There are some checks that\n",
    "#     need to be met to be a strong password. For a weak password, we need to return the reason for it to be weak. [10 points]\n",
    "\n",
    "    # Conditions to be fulfilled for strong password are:\n",
    "\n",
    "    # Minimum 9 characters and maximum 20 characters.\n",
    "    # Cannot be a newline or a space\n",
    "    # There should not be three or more repeating characters in a row.\n",
    "    # The same string pattern(minimum of two character length) should not be repeated.\n",
    "def Q4(passwd):\n",
    "    output = \"\"\n",
    "    weak = False\n",
    "    repetition = False\n",
    "    substrings = []\n",
    "    if (len(passwd) < 9 or len(passwd) > 20):\n",
    "        weak = True\n",
    "        output += \"Your password is weak for the following reason(s):\\n\"\n",
    "        output += \"-Must have minimum 9 characters and maximum 20 characters.\\n\"\n",
    "    if (\" \" in passwd or \"\\n\" in passwd):\n",
    "        if (weak == False):\n",
    "            weak = True\n",
    "            output += \"Your password is weak for the following reason(s):\\n\"\n",
    "        output += \"-There cannot be a newline or a space.\\n\"\n",
    "    for i in range(len(passwd)-2):\n",
    "        if (passwd[i] == passwd[i+1] and passwd[i] == passwd[i+2]):\n",
    "            if (weak == False):\n",
    "                weak = True\n",
    "                output += \"Your password is weak for the following reason(s):\\n\"\n",
    "            output += \"-There should not be three or more repeating characters in a row.\\n\"\n",
    "            break\n",
    "    for i in range(len(passwd)-1):\n",
    "        j = i+2\n",
    "        while (j < len(passwd)-1):\n",
    "            if (passwd.count(passwd[i:j]) > 1):\n",
    "                if (weak == False):\n",
    "                    weak = True\n",
    "                    output += \"Your password is weak for the following reason(s):\\n\"\n",
    "                output += \"-The same string pattern(minimum of two character length) should not be repeated. (\\\"\" + passwd[i:j] + \"\\\" was repeated.)\"\n",
    "                repetition = True\n",
    "                break\n",
    "            else: \n",
    "                j+=1\n",
    "        if (repetition):\n",
    "            break\n",
    "    if (output == \"\"):\n",
    "        output += \"Your password is strong.\"\n",
    "    return output\n",
    "\n",
    "#Example\n",
    "print(Q4(\"ls 000 ls\"))"
   ]
  },
  {
   "cell_type": "code",
   "execution_count": 40,
   "id": "d9d09abe",
   "metadata": {},
   "outputs": [],
   "source": [
    "# PYTHON FOR DATA SCIENCE SECTION:"
   ]
  },
  {
   "cell_type": "code",
   "execution_count": null,
   "id": "9b75fab4",
   "metadata": {},
   "outputs": [],
   "source": [
    "# Q1. Write Python code to read in all the columns (as a DataFrame) of the file cities.csv \n",
    "# Download cities.csv. Print the content of the columns and also the shape of the dataframe [4 Points] \n"
   ]
  },
  {
   "cell_type": "code",
   "execution_count": null,
   "id": "2257d920-a493-4ff8-94ba-67dd1a36cad6",
   "metadata": {},
   "outputs": [],
   "source": [
    "# Q2. Create a subset of the DataFrame from Q1 in the following way: [6 points]\n",
    "\n",
    "# DataFrame Subset 1: Contains columns LatD,LonD,LatM,LonM and all the rows of the original DataFrame \n",
    "# DataFrame Subset 2: Contains all columns but only first 100 rows of the original DataFrame \n",
    "# DataFrame Subset 3: Contains 2nd, 3rd and 4th column of the original DataFrame and first 10 rows \n"
   ]
  },
  {
   "cell_type": "code",
   "execution_count": null,
   "id": "596fafa3-fafe-4fe3-8089-5cb7a591f29f",
   "metadata": {},
   "outputs": [],
   "source": [
    "# Q3. Write a Python code to read specific columns (LatD,LonD and City) and (LatM, LonM and State) of a CSV file \n",
    "# (cities.csv Download cities.csv) and print the content of the columns. Also print the 'type' of data in each of \n",
    "# the columns  [5 points]\n"
   ]
  },
  {
   "cell_type": "code",
   "execution_count": null,
   "id": "c3340f77-cf31-4fa3-8bac-4aa7597bc4cd",
   "metadata": {},
   "outputs": [],
   "source": [
    "# Q4. Write a Python code to write a Python list of lists (list_of_list.pkl Download list_of_list.pkl) to a csv file. \n",
    "# After writing the CSV file, read the CSV file and display the content. [10 points]\n"
   ]
  },
  {
   "cell_type": "code",
   "execution_count": null,
   "id": "4fb448a8-461a-4876-ad77-6135533d596e",
   "metadata": {},
   "outputs": [],
   "source": [
    "# Q5. Write a Python program to convert a Python DataFrame to a dictionary object.  [5 points]\n"
   ]
  },
  {
   "cell_type": "code",
   "execution_count": null,
   "id": "b2a28631-dd39-49f8-9ac7-581427915e65",
   "metadata": {},
   "outputs": [],
   "source": [
    "# Q6. You are given a text file containing a string of words and you need to write a function to find words \n",
    "# with a certain number of characters in the given text file. The length of the word will be the parameter of \n",
    "# the function and will be given by the user. Remove duplicate words from the final list. [HINT - Take a look \n",
    "# at split(), lower(), open() and input() functions in python] \n"
   ]
  }
 ],
 "metadata": {
  "kernelspec": {
   "display_name": "Python 3 (ipykernel)",
   "language": "python",
   "name": "python3"
  },
  "language_info": {
   "codemirror_mode": {
    "name": "ipython",
    "version": 3
   },
   "file_extension": ".py",
   "mimetype": "text/x-python",
   "name": "python",
   "nbconvert_exporter": "python",
   "pygments_lexer": "ipython3",
   "version": "3.9.1"
  }
 },
 "nbformat": 4,
 "nbformat_minor": 5
}
