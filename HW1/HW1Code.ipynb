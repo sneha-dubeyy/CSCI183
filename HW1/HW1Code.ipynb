{
 "cells": [
  {
   "cell_type": "code",
   "execution_count": null,
   "id": "35055cbf-24d0-4ece-9c63-f9649dcfa817",
   "metadata": {},
   "outputs": [],
   "source": [
    "# Sneha Dubey & Bastiaan Van Buiten\n",
    "# Dr. Ghosh\n",
    "# CSCI 183\n",
    "# 22 January 2024\n",
    "# Homework 1 Code"
   ]
  },
  {
   "cell_type": "code",
   "execution_count": 1,
   "id": "105786a0",
   "metadata": {},
   "outputs": [],
   "source": [
    "# PYTHON BASICS SECTION:\n",
    "import pandas as pd"
   ]
  },
  {
   "cell_type": "code",
   "execution_count": 2,
   "id": "f67a6784",
   "metadata": {},
   "outputs": [],
   "source": [
    "# Q1: Write a Python program to print the number and sum of prime numbers which are less than or\n",
    "#     equal to a given number. [5 points]"
   ]
  },
  {
   "cell_type": "code",
   "execution_count": 3,
   "id": "722181b4",
   "metadata": {},
   "outputs": [
    {
     "name": "stdout",
     "output_type": "stream",
     "text": [
      "12\n"
     ]
    }
   ],
   "source": [
    "# Q2: Write a Python program to find the largest product of the pair of adjacent elements from a given\n",
    "#     list of integers. [5 points]\n",
    "def basics_Q2(inp=[]):\n",
    "    if (len(inp) == 0 or len(inp) == 1):\n",
    "        return None;\n",
    "    i = 1\n",
    "    j = 2\n",
    "    largest = inp[0] * inp[1]\n",
    "    while (i < len(inp) - 1):\n",
    "        if (largest < inp[i] * inp[j]):\n",
    "            largest = inp[i] * inp[j]\n",
    "        i+=1\n",
    "        j+=1\n",
    "    return largest\n",
    "\n",
    "#Example\n",
    "print(basics_Q2([1,2,3,4]))"
   ]
  },
  {
   "cell_type": "code",
   "execution_count": 4,
   "id": "8c9408f9",
   "metadata": {},
   "outputs": [],
   "source": [
    "# Q3: Given a password, we have to categorize it as valid or invalid. There are some checks that need\n",
    "#     to be met to be a valid password. For a invalid password, we need to return the reason for it to be invalid.\n",
    "#     [10 points]\n",
    "\n",
    "    # Conditions for a valid password are:\n",
    "\n",
    "    # Should have at least one number.\n",
    "    # Should have at least one uppercase and one lowercase character.\n",
    "    # Should have at least one special symbol.\n",
    "    # Should be between 6 to 20 characters long."
   ]
  },
  {
   "cell_type": "code",
   "execution_count": 5,
   "id": "aea77951",
   "metadata": {},
   "outputs": [
    {
     "name": "stdout",
     "output_type": "stream",
     "text": [
      "Your password is weak for the following reason(s):\n",
      "-There cannot be a newline or a space.\n",
      "-There should not be three or more repeating characters in a row.\n",
      "-The same string pattern(minimum of two character length) should not be repeated. (\"ls\" was repeated.)\n"
     ]
    }
   ],
   "source": [
    "# Q4: Given a password, we have to categorize it as a strong or weak one. There are some checks that\n",
    "#     need to be met to be a strong password. For a weak password, we need to return the reason for it to be weak. [10 points]\n",
    "\n",
    "    # Conditions to be fulfilled for strong password are:\n",
    "\n",
    "    # Minimum 9 characters and maximum 20 characters.\n",
    "    # Cannot be a newline or a space\n",
    "    # There should not be three or more repeating characters in a row.\n",
    "    # The same string pattern(minimum of two character length) should not be repeated.\n",
    "def basics_Q4(passwd=\"\"):\n",
    "    output = \"\"\n",
    "    weak = False\n",
    "    repetition = False\n",
    "    substrings = []\n",
    "    if (len(passwd) < 9 or len(passwd) > 20):\n",
    "        weak = True\n",
    "        output += \"Your password is weak for the following reason(s):\\n\"\n",
    "        output += \"-Must have minimum 9 characters and maximum 20 characters.\\n\"\n",
    "    if (\" \" in passwd or \"\\n\" in passwd):\n",
    "        if (weak == False):\n",
    "            weak = True\n",
    "            output += \"Your password is weak for the following reason(s):\\n\"\n",
    "        output += \"-There cannot be a newline or a space.\\n\"\n",
    "    for i in range(len(passwd)-2):\n",
    "        if (passwd[i] == passwd[i+1] and passwd[i] == passwd[i+2]):\n",
    "            if (weak == False):\n",
    "                weak = True\n",
    "                output += \"Your password is weak for the following reason(s):\\n\"\n",
    "            output += \"-There should not be three or more repeating characters in a row.\\n\"\n",
    "            break\n",
    "    for i in range(len(passwd)-1):\n",
    "        j = i+2\n",
    "        while (j < len(passwd)-1):\n",
    "            if (passwd.count(passwd[i:j]) > 1):\n",
    "                if (weak == False):\n",
    "                    weak = True\n",
    "                    output += \"Your password is weak for the following reason(s):\\n\"\n",
    "                output += \"-The same string pattern(minimum of two character length) should not be repeated. (\\\"\" + passwd[i:j] + \"\\\" was repeated.)\"\n",
    "                repetition = True\n",
    "                break\n",
    "            else: \n",
    "                j+=1\n",
    "        if (repetition):\n",
    "            break\n",
    "    if (output == \"\"):\n",
    "        output += \"Your password is strong.\"\n",
    "    return output\n",
    "\n",
    "#Example\n",
    "print(basics_Q4(\"ls 000 ls\"))"
   ]
  },
  {
   "cell_type": "code",
   "execution_count": 6,
   "id": "b6b74d76-7003-4f59-84bd-8bf7553c8763",
   "metadata": {},
   "outputs": [],
   "source": [
    "#PYTHON FOR DATA SCIENCE SECTION:"
   ]
  },
  {
   "cell_type": "code",
   "execution_count": 7,
   "id": "9b75fab4",
   "metadata": {},
   "outputs": [
    {
     "name": "stdout",
     "output_type": "stream",
     "text": [
      "(128, 10)\n"
     ]
    },
    {
     "data": {
      "text/html": [
       "<div>\n",
       "<style scoped>\n",
       "    .dataframe tbody tr th:only-of-type {\n",
       "        vertical-align: middle;\n",
       "    }\n",
       "\n",
       "    .dataframe tbody tr th {\n",
       "        vertical-align: top;\n",
       "    }\n",
       "\n",
       "    .dataframe thead th {\n",
       "        text-align: right;\n",
       "    }\n",
       "</style>\n",
       "<table border=\"1\" class=\"dataframe\">\n",
       "  <thead>\n",
       "    <tr style=\"text-align: right;\">\n",
       "      <th></th>\n",
       "      <th>LatD</th>\n",
       "      <th>\"LatM\"</th>\n",
       "      <th>\"LatS\"</th>\n",
       "      <th>\"NS\"</th>\n",
       "      <th>\"LonD\"</th>\n",
       "      <th>\"LonM\"</th>\n",
       "      <th>\"LonS\"</th>\n",
       "      <th>\"EW\"</th>\n",
       "      <th>\"City\"</th>\n",
       "      <th>\"State\"</th>\n",
       "    </tr>\n",
       "  </thead>\n",
       "  <tbody>\n",
       "    <tr>\n",
       "      <th>0</th>\n",
       "      <td>41</td>\n",
       "      <td>5</td>\n",
       "      <td>59</td>\n",
       "      <td>\"N\"</td>\n",
       "      <td>80</td>\n",
       "      <td>39</td>\n",
       "      <td>0</td>\n",
       "      <td>\"W\"</td>\n",
       "      <td>\"Youngstown\"</td>\n",
       "      <td>OH</td>\n",
       "    </tr>\n",
       "    <tr>\n",
       "      <th>1</th>\n",
       "      <td>42</td>\n",
       "      <td>52</td>\n",
       "      <td>48</td>\n",
       "      <td>\"N\"</td>\n",
       "      <td>97</td>\n",
       "      <td>23</td>\n",
       "      <td>23</td>\n",
       "      <td>\"W\"</td>\n",
       "      <td>\"Yankton\"</td>\n",
       "      <td>SD</td>\n",
       "    </tr>\n",
       "    <tr>\n",
       "      <th>2</th>\n",
       "      <td>46</td>\n",
       "      <td>35</td>\n",
       "      <td>59</td>\n",
       "      <td>\"N\"</td>\n",
       "      <td>120</td>\n",
       "      <td>30</td>\n",
       "      <td>36</td>\n",
       "      <td>\"W\"</td>\n",
       "      <td>\"Yakima\"</td>\n",
       "      <td>WA</td>\n",
       "    </tr>\n",
       "    <tr>\n",
       "      <th>3</th>\n",
       "      <td>42</td>\n",
       "      <td>16</td>\n",
       "      <td>12</td>\n",
       "      <td>\"N\"</td>\n",
       "      <td>71</td>\n",
       "      <td>48</td>\n",
       "      <td>0</td>\n",
       "      <td>\"W\"</td>\n",
       "      <td>\"Worcester\"</td>\n",
       "      <td>MA</td>\n",
       "    </tr>\n",
       "    <tr>\n",
       "      <th>4</th>\n",
       "      <td>43</td>\n",
       "      <td>37</td>\n",
       "      <td>48</td>\n",
       "      <td>\"N\"</td>\n",
       "      <td>89</td>\n",
       "      <td>46</td>\n",
       "      <td>11</td>\n",
       "      <td>\"W\"</td>\n",
       "      <td>\"Wisconsin Dells\"</td>\n",
       "      <td>WI</td>\n",
       "    </tr>\n",
       "  </tbody>\n",
       "</table>\n",
       "</div>"
      ],
      "text/plain": [
       "   LatD   \"LatM\"   \"LatS\"  \"NS\"   \"LonD\"   \"LonM\"   \"LonS\"  \"EW\"  \\\n",
       "0    41        5       59   \"N\"       80       39        0   \"W\"   \n",
       "1    42       52       48   \"N\"       97       23       23   \"W\"   \n",
       "2    46       35       59   \"N\"      120       30       36   \"W\"   \n",
       "3    42       16       12   \"N\"       71       48        0   \"W\"   \n",
       "4    43       37       48   \"N\"       89       46       11   \"W\"   \n",
       "\n",
       "               \"City\"  \"State\"  \n",
       "0        \"Youngstown\"       OH  \n",
       "1           \"Yankton\"       SD  \n",
       "2            \"Yakima\"       WA  \n",
       "3         \"Worcester\"       MA  \n",
       "4   \"Wisconsin Dells\"       WI  "
      ]
     },
     "execution_count": 7,
     "metadata": {},
     "output_type": "execute_result"
    }
   ],
   "source": [
    "# Q1. Write Python code to read in all the columns (as a DataFrame) of the file cities.csv \n",
    "# Download cities.csv. Print the content of the columns and also the shape of the dataframe [4 Points] \n",
    "df = pd.read_csv('cities.csv')\n",
    "print(df.shape)\n",
    "df.head()"
   ]
  },
  {
   "cell_type": "code",
   "execution_count": 8,
   "id": "2257d920-a493-4ff8-94ba-67dd1a36cad6",
   "metadata": {},
   "outputs": [
    {
     "name": "stdout",
     "output_type": "stream",
     "text": [
      "Subset 1:\n",
      "     LatD   \"LatM\"   \"LonD\"   \"LonM\"\n",
      "0      41        5       80       39\n",
      "1      42       52       97       23\n",
      "2      46       35      120       30\n",
      "3      42       16       71       48\n",
      "4      43       37       89       46\n",
      "..    ...      ...      ...      ...\n",
      "123    39       31      119       48\n",
      "124    50       25      104       39\n",
      "125    40       10      122       14\n",
      "126    40       19       75       55\n",
      "127    41        9       81       14\n",
      "\n",
      "[128 rows x 4 columns]\n",
      "\n",
      "Subset 2:\n",
      "    LatD   \"LatM\"   \"LatS\"  \"NS\"   \"LonD\"   \"LonM\"   \"LonS\"  \"EW\"  \\\n",
      "0     41        5       59   \"N\"       80       39        0   \"W\"   \n",
      "1     42       52       48   \"N\"       97       23       23   \"W\"   \n",
      "2     46       35       59   \"N\"      120       30       36   \"W\"   \n",
      "3     42       16       12   \"N\"       71       48        0   \"W\"   \n",
      "4     43       37       48   \"N\"       89       46       11   \"W\"   \n",
      "..   ...      ...      ...   ...      ...      ...      ...   ...   \n",
      "95    31       27       35   \"N\"      100       26       24   \"W\"   \n",
      "96    40       45       35   \"N\"      111       52       47   \"W\"   \n",
      "97    38       22       11   \"N\"       75       35       59   \"W\"   \n",
      "98    36       40       11   \"N\"      121       39        0   \"W\"   \n",
      "99    38       50       24   \"N\"       97       36       36   \"W\"   \n",
      "\n",
      "                \"City\"  \"State\"  \n",
      "0         \"Youngstown\"       OH  \n",
      "1            \"Yankton\"       SD  \n",
      "2             \"Yakima\"       WA  \n",
      "3          \"Worcester\"       MA  \n",
      "4    \"Wisconsin Dells\"       WI  \n",
      "..                 ...      ...  \n",
      "95        \"San Angelo\"       TX  \n",
      "96    \"Salt Lake City\"       UT  \n",
      "97         \"Salisbury\"       MD  \n",
      "98           \"Salinas\"       CA  \n",
      "99            \"Salina\"       KS  \n",
      "\n",
      "[100 rows x 10 columns]\n",
      "\n",
      "Subset 3:\n",
      "    \"LatM\"   \"LatS\"  \"NS\"\n",
      "0        5       59   \"N\"\n",
      "1       52       48   \"N\"\n",
      "2       35       59   \"N\"\n",
      "3       16       12   \"N\"\n",
      "4       37       48   \"N\"\n",
      "5        5       59   \"N\"\n",
      "6       52       48   \"N\"\n",
      "7       11       23   \"N\"\n",
      "8       14       24   \"N\"\n",
      "9       45        0   \"N\"\n",
      "(10, 3)\n"
     ]
    }
   ],
   "source": [
    "# Q2. Create a subset of the DataFrame from Q1 in the following way: [6 points]\n",
    "\n",
    "# DataFrame Subset 1: Contains columns LatD,LonD,LatM,LonM and all the rows of the original DataFrame \n",
    "df_subset_one = df[['LatD', ' \\\"LatM\\\"', ' \\\"LonD\\\"', ' \\\"LonM\\\"']]\n",
    "print(\"Subset 1:\")\n",
    "print(df_subset_one,end='\\n\\n')\n",
    "\n",
    "# DataFrame Subset 2: Contains all columns but only first 100 rows of the original DataFrame \n",
    "df_subset_two = df[0:100]\n",
    "print(\"Subset 2:\")\n",
    "print(df_subset_two, end='\\n\\n')\n",
    "\n",
    "# DataFrame Subset 3: Contains 2nd, 3rd and 4th column of the original DataFrame and first 10 rows \n",
    "df_subset_three = df.iloc[0:10, 1:4]\n",
    "print(\"Subset 3:\")\n",
    "print(df_subset_three)\n",
    "print(df_subset_three.shape)\n"
   ]
  },
  {
   "cell_type": "code",
   "execution_count": 9,
   "id": "596fafa3-fafe-4fe3-8089-5cb7a591f29f",
   "metadata": {},
   "outputs": [],
   "source": [
    "# Q3. Write a Python code to read specific columns (LatD,LonD and City) and (LatM, LonM and State) of a CSV file \n",
    "# (cities.csv Download cities.csv) and print the content of the columns. Also print the 'type' of data in each of \n",
    "# the columns  [5 points]\n"
   ]
  },
  {
   "cell_type": "code",
   "execution_count": 10,
   "id": "c3340f77-cf31-4fa3-8bac-4aa7597bc4cd",
   "metadata": {},
   "outputs": [
    {
     "name": "stdout",
     "output_type": "stream",
     "text": [
      "                competitorname chocolate fruity caramel peanutyalmondy nougat  \\\n",
      "0                  Mr Good Bar         y      n       n              y      n   \n",
      "1   Chewey Lemonhead Fruit Mix         n      y       n              n      n   \n",
      "2                    Starburst         n      y       n              n      n   \n",
      "3                   Gobstopper         n      y       n              n      n   \n",
      "4            Haribo Gold Bears         n      y       n              n      n   \n",
      "..                         ...       ...    ...     ...            ...    ...   \n",
      "80          Caramel Apple Pops         n      y       y              n      n   \n",
      "81                     Fun Dip         n      y       n              n      n   \n",
      "82                       Runts         n      y       n              n      n   \n",
      "83                        Dots         n      y       n              n      n   \n",
      "84                    Snickers         y      n       y              y      y   \n",
      "\n",
      "   crispedricewafer hard bar pluribus  sugarpercent  pricepercent  winpercent  \n",
      "0                 n    n   y        n         0.313         0.918   54.526451  \n",
      "1                 n    n   n        y         0.732         0.511   36.017628  \n",
      "2                 n    n   n        y         0.151         0.220   67.037628  \n",
      "3                 n    y   n        y         0.906         0.453   46.783348  \n",
      "4                 n    n   n        y         0.465         0.465   57.119740  \n",
      "..              ...  ...  ..      ...           ...           ...         ...  \n",
      "80                n    n   n        n         0.604         0.325   34.517681  \n",
      "81                n    y   n        n         0.732         0.325   39.185505  \n",
      "82                n    y   n        y         0.872         0.279   42.849144  \n",
      "83                n    n   n        y         0.732         0.511   42.272076  \n",
      "84                n    n   y        n         0.546         0.651   76.673782  \n",
      "\n",
      "[85 rows x 13 columns]\n"
     ]
    }
   ],
   "source": [
    "# Q4. Write a Python code to write a Python list of lists (list_of_list.pkl) to a csv file. \n",
    "# After writing the CSV file, read the CSV file and display the content. [10 points]\n",
    "import pickle\n",
    "import csv\n",
    "\n",
    "with open(\"list_of_list.pkl\", \"rb\") as fp:   \n",
    "   b = pickle.load(fp)\n",
    "\n",
    "with open('Q4.csv', 'w') as file:\n",
    "    writer = csv.writer(file)\n",
    "    for item in b:\n",
    "        writer.writerow(item)\n",
    "\n",
    "df = pd.read_csv('Q4.csv')\n",
    "print(df)"
   ]
  },
  {
   "cell_type": "code",
   "execution_count": 11,
   "id": "4fb448a8-461a-4876-ad77-6135533d596e",
   "metadata": {},
   "outputs": [],
   "source": [
    "# Q5. Write a Python program to convert a Python DataFrame to a dictionary object.  [5 points]\n"
   ]
  },
  {
   "cell_type": "code",
   "execution_count": 12,
   "id": "b2a28631-dd39-49f8-9ac7-581427915e65",
   "metadata": {},
   "outputs": [
    {
     "name": "stdout",
     "output_type": "stream",
     "text": [
      "Enter a word length: \n"
     ]
    },
    {
     "name": "stdin",
     "output_type": "stream",
     "text": [
      " 10\n"
     ]
    },
    {
     "name": "stdout",
     "output_type": "stream",
     "text": [
      "['scientific', 'algorithms', 'structural', 'statistics', 'understand', 'techniques', 'everything', 'technology']\n"
     ]
    }
   ],
   "source": [
    "# Q6. You are given a text file containing a string of words and you need to write a function to find words \n",
    "# with a certain number of characters in the given text file. The length of the word will be the parameter of \n",
    "# the function and will be given by the user. Remove duplicate words from the final list. [HINT - Take a look \n",
    "# at split(), lower(), open() and input() functions in python] \n",
    "def ds_Q6():\n",
    "    words = []\n",
    "    print(\"Enter a word length: \")\n",
    "    length = input()\n",
    "    output = []\n",
    "    try:\n",
    "        with open('Data Science.txt', 'r') as file:\n",
    "            load = file.readlines()\n",
    "    except:\n",
    "        print(\"Could not load the file with filename: \" + fname + \".\")\n",
    "        return\n",
    "    for line in load:\n",
    "        words.append(line.lower().replace('.','').replace('?','').replace('!','').replace('\\\"','')\n",
    "                     .replace(',','').replace('\\n', '').replace('(', '').replace(')', '').split(' '))\n",
    "    for list in words:\n",
    "        for word in list:\n",
    "            word_len = len(word)\n",
    "            if (\"\\'\" in word):\n",
    "                word_len-=1\n",
    "            if (word_len == int(length) and word not in output):\n",
    "                output.append(word)\n",
    "    return output\n",
    "\n",
    "print(ds_Q6())"
   ]
  },
  {
   "cell_type": "code",
   "execution_count": 13,
   "id": "1c8eebb1-54d4-4a9c-99a9-b02fbfc71080",
   "metadata": {},
   "outputs": [],
   "source": [
    "#REGULAR EXPRESSIONS SECTION\n",
    "import re"
   ]
  },
  {
   "cell_type": "code",
   "execution_count": 14,
   "id": "569c5d40-58ee-430f-b7b8-c9f8d11127d4",
   "metadata": {},
   "outputs": [],
   "source": [
    "# Q1. Write a Python program that matches a word containing 'z', not at the start or end of the word. [5 points]\n"
   ]
  },
  {
   "cell_type": "code",
   "execution_count": 15,
   "id": "dd1458b3-e99a-4c4b-bec9-4d5fa6720f47",
   "metadata": {},
   "outputs": [
    {
     "name": "stdout",
     "output_type": "stream",
     "text": [
      "['CSCI 10', 'CSCI 60', 'CSCI 182']\n"
     ]
    }
   ],
   "source": [
    "# Q2. You are given a list of courses of a student: [5 points]\n",
    "\n",
    "# CSCI 10\n",
    "# MATH 9\n",
    "# MATH 11\n",
    "# CSCI 60\n",
    "# CSCI 182\n",
    "\n",
    "# Write a python program that helps you to find the CSCI courses that the student has taken. Need to find the code and number. \n",
    "def regexe_Q2():\n",
    "    class_sentence = \"\"\n",
    "    class_list = [\"CSCI 10\", \"MATH 9\", \"MATH 11\", \"CSCI 60\", \"CSCI 182\"]\n",
    "    for c in class_list:\n",
    "        class_sentence += c + \" \"\n",
    "    matches = re.findall(\"CSCI\\s\\d{2,3}\", class_sentence)\n",
    "    return matches\n",
    "\n",
    "print(regexe_Q2())"
   ]
  }
 ],
 "metadata": {
  "kernelspec": {
   "display_name": "Python 3 (ipykernel)",
   "language": "python",
   "name": "python3"
  },
  "language_info": {
   "codemirror_mode": {
    "name": "ipython",
    "version": 3
   },
   "file_extension": ".py",
   "mimetype": "text/x-python",
   "name": "python",
   "nbconvert_exporter": "python",
   "pygments_lexer": "ipython3",
   "version": "3.10.9"
  }
 },
 "nbformat": 4,
 "nbformat_minor": 5
}
