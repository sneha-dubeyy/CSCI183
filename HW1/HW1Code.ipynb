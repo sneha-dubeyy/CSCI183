{
 "cells": [
  {
   "cell_type": "code",
   "execution_count": null,
   "id": "ddb46322",
   "metadata": {},
   "outputs": [],
   "source": [
    "# Sneha Dubey & Bastiaan Van Buiten\n",
    "# Dr. Ghosh\n",
    "# CSCI 183\n",
    "# 22 January 2024\n",
    "# Homework 1 Code"
   ]
  },
  {
   "cell_type": "code",
   "execution_count": null,
   "id": "105786a0",
   "metadata": {},
   "outputs": [],
   "source": [
    "# PYTHON BASICS SECTION:"
   ]
  },
  {
   "cell_type": "code",
   "execution_count": null,
   "id": "f67a6784",
   "metadata": {},
   "outputs": [],
   "source": [
    "# Q1: Write a Python program to print the number and sum of prime numbers which are less than or\n",
    "#     equal to a given number. [5 points]"
   ]
  },
  {
   "cell_type": "code",
   "execution_count": null,
   "id": "722181b4",
   "metadata": {},
   "outputs": [],
   "source": [
    "# Q2: Write a Python program to find the largest product of the pair of adjacent elements from a given\n",
    "#     list of integers. [5 points]"
   ]
  },
  {
   "cell_type": "code",
   "execution_count": null,
   "id": "8c9408f9",
   "metadata": {},
   "outputs": [],
   "source": [
    "# Q3: Given a password, we have to categorize it as valid or invalid. There are some checks that need\n",
    "#     to be met to be a valid password. For a invalid password, we need to return the reason for it to be invalid.\n",
    "#     [10 points]\n",
    "\n",
    "    # Conditions for a valid password are:\n",
    "\n",
    "    # Should have at least one number.\n",
    "    # Should have at least one uppercase and one lowercase character.\n",
    "    # Should have at least one special symbol.\n",
    "    # Should be between 6 to 20 characters long."
   ]
  },
  {
   "cell_type": "code",
   "execution_count": null,
   "id": "aea77951",
   "metadata": {},
   "outputs": [],
   "source": [
    "# Q4: Given a password, we have to categorize it as a strong or weak one. There are some checks that\n",
    "#     need to be met to be a strong password. For a weak password, we need to return the reason for it to be weak. [10 points]\n",
    "\n",
    "    # Conditions to be fulfilled for strong password are:\n",
    "\n",
    "    # Minimum 9 characters and maximum 20 characters.\n",
    "    # Cannot be a newline or a space\n",
    "    # There should not be three or more repeating characters in a row.\n",
    "    # The same string pattern(minimum of two character length) should not be repeated."
   ]
  },
  {
   "cell_type": "code",
   "execution_count": null,
   "id": "d9d09abe",
   "metadata": {},
   "outputs": [],
   "source": [
    "# PYTHON FOR DATA SCIENCE SECTION:"
   ]
  },
  {
   "cell_type": "code",
   "execution_count": null,
   "id": "9b75fab4",
   "metadata": {},
   "outputs": [],
   "source": []
  }
 ],
 "metadata": {
  "kernelspec": {
   "display_name": "Python 3 (ipykernel)",
   "language": "python",
   "name": "python3"
  },
  "language_info": {
   "codemirror_mode": {
    "name": "ipython",
    "version": 3
   },
   "file_extension": ".py",
   "mimetype": "text/x-python",
   "name": "python",
   "nbconvert_exporter": "python",
   "pygments_lexer": "ipython3",
   "version": "3.10.9"
  }
 },
 "nbformat": 4,
 "nbformat_minor": 5
}
